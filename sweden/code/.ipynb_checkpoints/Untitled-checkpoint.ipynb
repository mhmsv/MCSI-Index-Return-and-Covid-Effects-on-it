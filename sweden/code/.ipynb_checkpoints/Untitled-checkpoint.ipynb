{
 "cells": [
  {
   "cell_type": "code",
   "execution_count": 1,
   "id": "98666f63",
   "metadata": {},
   "outputs": [],
   "source": [
    "#Importing Libraries\n",
    "import pandas as pd\n",
    "import numpy as np"
   ]
  },
  {
   "cell_type": "code",
   "execution_count": 2,
   "id": "e1b786ab",
   "metadata": {},
   "outputs": [],
   "source": [
    "#Reading Sweden mcsi Index data from excel"
   ]
  },
  {
   "cell_type": "code",
   "execution_count": null,
   "id": "a2b95eee",
   "metadata": {},
   "outputs": [],
   "source": [
    "sweden_data = pd.read_excel(\"/Users/mohammad/Downloads/econometric data/MSDUSW.xlsx\" )"
   ]
  }
 ],
 "metadata": {
  "kernelspec": {
   "display_name": "Python 3 (ipykernel)",
   "language": "python",
   "name": "python3"
  },
  "language_info": {
   "codemirror_mode": {
    "name": "ipython",
    "version": 3
   },
   "file_extension": ".py",
   "mimetype": "text/x-python",
   "name": "python",
   "nbconvert_exporter": "python",
   "pygments_lexer": "ipython3",
   "version": "3.9.12"
  }
 },
 "nbformat": 4,
 "nbformat_minor": 5
}
